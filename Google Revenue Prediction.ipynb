{
 "cells": [
  {
   "cell_type": "code",
   "execution_count": 1,
   "metadata": {},
   "outputs": [
    {
     "name": "stderr",
     "output_type": "stream",
     "text": [
      "/anaconda3/envs/kagglePython/lib/python3.6/site-packages/IPython/core/interactiveshell.py:2728: DtypeWarning: Columns (3) have mixed types. Specify dtype option on import or set low_memory=False.\n",
      "  interactivity=interactivity, compiler=compiler, result=result)\n"
     ]
    }
   ],
   "source": [
    "import pandas as pd\n",
    "import sklearn\n",
    "\n",
    "data = pd.read_csv('train.csv')\n"
   ]
  },
  {
   "cell_type": "code",
   "execution_count": 2,
   "metadata": {},
   "outputs": [],
   "source": [
    "import json\n",
    "def readTransactionRevenue(item):\n",
    "    global totals_transactionRevenue, longest_keys, keys\n",
    "    json_rep = json.loads(item)\n",
    "    if 'transactionRevenue' in json_rep.keys():\n",
    "        return int(json_rep['transactionRevenue'])\n",
    "    return 0\n",
    "\n",
    "\n",
    "def totals2Vec(total):\n",
    "    vec = [0, 0, 0, 0, 0]\n",
    "    json_rep = json.loads(total)\n",
    "    if 'bounces' in json_rep.keys():\n",
    "        vec[0] = json_rep['bounces']\n",
    "    if 'hits' in json_rep.keys():\n",
    "        vec[1] = json_rep['hits']\n",
    "    if 'pageviews' in json_rep.keys():\n",
    "        vec[2] = json_rep['pageviews']\n",
    "    if 'visits' in json_rep.keys():\n",
    "        vec[3] = json_rep['visits']\n",
    "    if 'newVisits' in json_rep.keys():\n",
    "        vec[4] = json_rep['newVisits']\n",
    "    return vec\n",
    "\n",
    "def readAttr(row_json, key_name, empty_def=None):\n",
    "    json_rep = json.loads(row_json)\n",
    "    if key_name in json_rep.keys():\n",
    "        return json_rep[key_name]\n",
    "    return empty_def\n",
    "\n",
    "data['transactionRevenue'] = data.apply(lambda row: readTransactionRevenue(row['totals']), axis=1)\n",
    "data['totals_vec'] = data.apply(lambda row: totals2Vec(row['totals']), axis=1)\n",
    "\n",
    "\n",
    "data['mobileDeviceBranding'] = data.apply(lambda row: readAttr(row['device'], 'mobileDeviceBranding'), axis=1)\n",
    "data['deviceCategory'] = data.apply(lambda row: readAttr(row['device'], 'deviceCategory'), axis=1)\n",
    "data['operatingSystem'] = data.apply(lambda row: readAttr(row['device'], 'operatingSystem'), axis=1)\n",
    "data['isMobile'] = data.apply(lambda row: readAttr(row['device'], 'isMobile'), axis=1)\n",
    "data['browser'] = data.apply(lambda row: readAttr(row['device'], 'browser'), axis=1)\n",
    "\n",
    "\n",
    "data['campaignCode'] = data.apply(lambda row: readAttr(row['trafficSource'], 'campaignCode'), axis=1)\n",
    "data['medium'] = data.apply(lambda row: readAttr(row['trafficSource'], 'medium'), axis=1)\n",
    "data['isTrueDirect'] = data.apply(lambda row: readAttr(row['trafficSource'], 'isTrueDirect'), axis=1)\n",
    "data['referralPath'] = data.apply(lambda row: readAttr(row['trafficSource'], 'referralPath'), axis=1)\n",
    "data['source'] = data.apply(lambda row: readAttr(row['trafficSource'], 'source'), axis=1)\n",
    "data['adContent'] = data.apply(lambda row: readAttr(row['trafficSource'], 'adContent'), axis=1)\n",
    "\n",
    "\n",
    "data['city'] = data.apply(lambda row: readAttr(row['geoNetwork'], 'city'), axis=1)\n",
    "data['continent'] = data.apply(lambda row: readAttr(row['geoNetwork'], 'continent'), axis=1)\n",
    "data['networkDomain'] = data.apply(lambda row: readAttr(row['geoNetwork'], 'networkDomain'), axis=1)\n",
    "data['country'] = data.apply(lambda row: readAttr(row['geoNetwork'], 'country'), axis=1)\n",
    "data['region'] = data.apply(lambda row: readAttr(row['geoNetwork'], 'region'), axis=1)\n",
    "data['subContinent'] = data.apply(lambda row: readAttr(row['geoNetwork'], 'subContinent'), axis=1)\n",
    "\n"
   ]
  },
  {
   "cell_type": "code",
   "execution_count": 59,
   "metadata": {},
   "outputs": [],
   "source": [
    "def changeValue(df, col, origin, new):\n",
    "    df.loc[df[col].isin(origin), col] = new\n",
    "    \n",
    "changeValue(data, 'operatingSystem', [\"(not set)\"], \"\")\n",
    "changeValue(data, 'browser', [\"(not set)\",\"0\"], \"\")\n",
    "changeValue(data, 'medium', [\"(not set)\",\"(none)\"], \"\")\n",
    "data[\"isTrueDirect\"] = data[\"isTrueDirect\"].fillna(\"False\")\n",
    "changeValue(data, 'city', [\"(not set)\"], \"\")\n",
    "changeValue(data, 'continent', [\"(not set)\"], \"\")\n",
    "changeValue(data, 'networkDomain', [\"(not set)\"], \"\")\n",
    "changeValue(data, 'region', [\"(not set)\",\"not available in demo dataset\"], \"\")\n",
    "changeValue(data, 'subContinent', [\"(not set)\",\"not available in demo dataset\"], \"\")"
   ]
  },
  {
   "cell_type": "markdown",
   "metadata": {},
   "source": [
    "### \"mobileDeviceBranding\" should not be used "
   ]
  },
  {
   "cell_type": "code",
   "execution_count": 17,
   "metadata": {},
   "outputs": [
    {
     "data": {
      "text/plain": [
       "not available in demo dataset    903653\n",
       "Name: mobileDeviceBranding, dtype: int64"
      ]
     },
     "execution_count": 17,
     "metadata": {},
     "output_type": "execute_result"
    }
   ],
   "source": [
    "data['mobileDeviceBranding'].value_counts()"
   ]
  },
  {
   "cell_type": "code",
   "execution_count": 19,
   "metadata": {
    "collapsed": true
   },
   "outputs": [
    {
     "data": {
      "text/plain": [
       "Windows          350072\n",
       "Macintosh        253938\n",
       "Android          123892\n",
       "iOS              107665\n",
       "Linux             35034\n",
       "Chrome OS         26337\n",
       "(not set)          4695\n",
       "Windows Phone      1216\n",
       "Samsung             280\n",
       "BlackBerry          218\n",
       "Nintendo Wii        100\n",
       "Firefox OS           89\n",
       "Xbox                 66\n",
       "Nintendo WiiU        35\n",
       "FreeBSD               9\n",
       "Nokia                 2\n",
       "OpenBSD               2\n",
       "Nintendo 3DS          1\n",
       "NTT DoCoMo            1\n",
       "SunOS                 1\n",
       "Name: operatingSystem, dtype: int64"
      ]
     },
     "execution_count": 19,
     "metadata": {},
     "output_type": "execute_result"
    }
   ],
   "source": [
    "data['operatingSystem'].value_counts()"
   ]
  },
  {
   "cell_type": "code",
   "execution_count": 21,
   "metadata": {
    "collapsed": true
   },
   "outputs": [
    {
     "data": {
      "text/plain": [
       "Chrome                                         620364\n",
       "Safari                                         182245\n",
       "Firefox                                         37069\n",
       "Internet Explorer                               19375\n",
       "Edge                                            10205\n",
       "Android Webview                                  7865\n",
       "Safari (in-app)                                  6850\n",
       "Opera Mini                                       6139\n",
       "Opera                                            5643\n",
       "UC Browser                                       2427\n",
       "YaBrowser                                        2096\n",
       "Coc Coc                                           727\n",
       "Amazon Silk                                       561\n",
       "Android Browser                                   553\n",
       "Mozilla Compatible Agent                          374\n",
       "MRCHROME                                          263\n",
       "Maxthon                                           246\n",
       "BlackBerry                                        184\n",
       "Nintendo Browser                                  140\n",
       "Puffin                                             93\n",
       "Nokia Browser                                      67\n",
       "Iron                                               33\n",
       "LYF_LS_4002_12                                     21\n",
       "SeaMonkey                                          15\n",
       "Seznam                                             11\n",
       "Mozilla                                            11\n",
       "Apple-iPhone7C2                                     9\n",
       "(not set)                                           8\n",
       "0                                                   7\n",
       "Nichrome                                            7\n",
       "Lunascape                                           5\n",
       "osee2unifiedRelease                                 5\n",
       "DASH_JR_3G                                          4\n",
       "no-ua                                               3\n",
       "ThumbSniper                                         3\n",
       "LYF_LS_4002_11                                      3\n",
       "NokiaE52-1                                          2\n",
       "Android Runtime                                     2\n",
       "MQQBrowser                                          2\n",
       "YE                                                  2\n",
       "M5                                                  1\n",
       "[Use default User-agent string] LIVRENPOCHE         1\n",
       "DoCoMo                                              1\n",
       "ADM                                                 1\n",
       "Konqueror                                           1\n",
       "IE with Chrome Frame                                1\n",
       "TCL P500M                                           1\n",
       "subjectAgent: NoticiasBoom                          1\n",
       "User Agent                                          1\n",
       "CSM Click                                           1\n",
       "Changa 99695759                                     1\n",
       "HTC802t_TD                                          1\n",
       "Hisense M20-M_LTE                                   1\n",
       "Reddit                                              1\n",
       "Name: browser, dtype: int64"
      ]
     },
     "execution_count": 21,
     "metadata": {},
     "output_type": "execute_result"
    }
   ],
   "source": [
    "data['browser'].value_counts()"
   ]
  },
  {
   "cell_type": "code",
   "execution_count": 46,
   "metadata": {
    "collapsed": true
   },
   "outputs": [
    {
     "data": {
      "text/plain": [
       "Chrome                                         620364\n",
       "Safari                                         182245\n",
       "Firefox                                         37069\n",
       "Internet Explorer                               19375\n",
       "Edge                                            10205\n",
       "Android Webview                                  7865\n",
       "Safari (in-app)                                  6850\n",
       "Opera Mini                                       6139\n",
       "Opera                                            5643\n",
       "UC Browser                                       2427\n",
       "YaBrowser                                        2096\n",
       "Coc Coc                                           727\n",
       "Amazon Silk                                       561\n",
       "Android Browser                                   553\n",
       "Mozilla Compatible Agent                          374\n",
       "MRCHROME                                          263\n",
       "Maxthon                                           246\n",
       "BlackBerry                                        184\n",
       "Nintendo Browser                                  140\n",
       "Puffin                                             93\n",
       "Nokia Browser                                      67\n",
       "Iron                                               33\n",
       "LYF_LS_4002_12                                     21\n",
       "SeaMonkey                                          15\n",
       "                                                   15\n",
       "Seznam                                             11\n",
       "Mozilla                                            11\n",
       "Apple-iPhone7C2                                     9\n",
       "Nichrome                                            7\n",
       "Lunascape                                           5\n",
       "osee2unifiedRelease                                 5\n",
       "DASH_JR_3G                                          4\n",
       "LYF_LS_4002_11                                      3\n",
       "ThumbSniper                                         3\n",
       "no-ua                                               3\n",
       "YE                                                  2\n",
       "Android Runtime                                     2\n",
       "MQQBrowser                                          2\n",
       "NokiaE52-1                                          2\n",
       "Reddit                                              1\n",
       "IE with Chrome Frame                                1\n",
       "DoCoMo                                              1\n",
       "[Use default User-agent string] LIVRENPOCHE         1\n",
       "ADM                                                 1\n",
       "Konqueror                                           1\n",
       "TCL P500M                                           1\n",
       "subjectAgent: NoticiasBoom                          1\n",
       "HTC802t_TD                                          1\n",
       "M5                                                  1\n",
       "User Agent                                          1\n",
       "Changa 99695759                                     1\n",
       "Hisense M20-M_LTE                                   1\n",
       "CSM Click                                           1\n",
       "Name: browser, dtype: int64"
      ]
     },
     "execution_count": 46,
     "metadata": {},
     "output_type": "execute_result"
    }
   ],
   "source": [
    "data['browser'].value_counts()"
   ]
  },
  {
   "cell_type": "markdown",
   "metadata": {},
   "source": [
    "### campaignCode should be removed since only all values except one are None"
   ]
  },
  {
   "cell_type": "code",
   "execution_count": 51,
   "metadata": {},
   "outputs": [
    {
     "data": {
      "text/plain": [
       "11251kjhkvahf    1\n",
       "Name: campaignCode, dtype: int64"
      ]
     },
     "execution_count": 51,
     "metadata": {},
     "output_type": "execute_result"
    }
   ],
   "source": [
    "data[\"campaignCode\"].value_counts()"
   ]
  },
  {
   "cell_type": "code",
   "execution_count": 56,
   "metadata": {
    "collapsed": true
   },
   "outputs": [
    {
     "data": {
      "text/plain": [
       "organic      381561\n",
       "referral     330955\n",
       "             143146\n",
       "cpc           25326\n",
       "affiliate     16403\n",
       "cpm            6262\n",
       "Name: medium, dtype: int64"
      ]
     },
     "execution_count": 56,
     "metadata": {},
     "output_type": "execute_result"
    }
   ],
   "source": [
    "data['medium'].value_counts()"
   ]
  },
  {
   "cell_type": "code",
   "execution_count": 67,
   "metadata": {},
   "outputs": [
    {
     "data": {
      "text/plain": [
       "''"
      ]
     },
     "execution_count": 67,
     "metadata": {},
     "output_type": "execute_result"
    }
   ],
   "source": [
    "data['medium'][1002]"
   ]
  },
  {
   "cell_type": "code",
   "execution_count": 68,
   "metadata": {
    "collapsed": true
   },
   "outputs": [
    {
     "name": "stdout",
     "output_type": "stream",
     "text": [
      "<class 'pandas.core.frame.DataFrame'>\n",
      "RangeIndex: 903653 entries, 0 to 903652\n",
      "Data columns (total 31 columns):\n",
      "channelGrouping         903653 non-null object\n",
      "date                    903653 non-null int64\n",
      "device                  903653 non-null object\n",
      "fullVisitorId           903653 non-null object\n",
      "geoNetwork              903653 non-null object\n",
      "sessionId               903653 non-null object\n",
      "socialEngagementType    903653 non-null object\n",
      "totals                  903653 non-null object\n",
      "trafficSource           903653 non-null object\n",
      "visitId                 903653 non-null int64\n",
      "visitNumber             903653 non-null int64\n",
      "visitStartTime          903653 non-null int64\n",
      "transactionRevenue      903653 non-null int64\n",
      "totals_vec              903653 non-null object\n",
      "mobileDeviceBranding    903653 non-null object\n",
      "deviceCategory          903653 non-null object\n",
      "operatingSystem         903653 non-null object\n",
      "isMobile                903653 non-null bool\n",
      "browser                 903653 non-null object\n",
      "campaignCode            1 non-null object\n",
      "medium                  903653 non-null object\n",
      "isTrueDirect            274005 non-null object\n",
      "referralPath            330941 non-null object\n",
      "source                  903653 non-null object\n",
      "adContent               10946 non-null object\n",
      "city                    903653 non-null object\n",
      "continent               903653 non-null object\n",
      "networkDomain           903653 non-null object\n",
      "country                 903653 non-null object\n",
      "region                  903653 non-null object\n",
      "subContinent            903653 non-null object\n",
      "dtypes: bool(1), int64(5), object(25)\n",
      "memory usage: 207.7+ MB\n"
     ]
    }
   ],
   "source": [
    "data.info()"
   ]
  },
  {
   "cell_type": "markdown",
   "metadata": {},
   "source": [
    "# ? empty"
   ]
  },
  {
   "cell_type": "code",
   "execution_count": 15,
   "metadata": {
    "collapsed": true
   },
   "outputs": [
    {
     "data": {
      "text/plain": [
       "0                                                      None\n",
       "1                                                      None\n",
       "2                                                      None\n",
       "3                                                      None\n",
       "4                                                      None\n",
       "5                                                      None\n",
       "6                                                      None\n",
       "7                                                      None\n",
       "8                                                      None\n",
       "9                                                      None\n",
       "10                                                     None\n",
       "11                                                     None\n",
       "12                                                     None\n",
       "13                                                     None\n",
       "14                                                     None\n",
       "15                                                     None\n",
       "16                                                     None\n",
       "17                                                     None\n",
       "18                                                     None\n",
       "19                                                     None\n",
       "20                                                     None\n",
       "21                                                     None\n",
       "22                                                     None\n",
       "23                                                     None\n",
       "24                                                     None\n",
       "25                                                     None\n",
       "26                                                     None\n",
       "27                                                     None\n",
       "28                                                        /\n",
       "29                                                     None\n",
       "                                ...                        \n",
       "903623                                        /yt/about/tr/\n",
       "903624                                           /yt/about/\n",
       "903625                                           /yt/about/\n",
       "903626    /r/golang/comments/4spnk9/where_to_buy_the_gol...\n",
       "903627                                           /yt/about/\n",
       "903628                                           /yt/about/\n",
       "903629                                           /yt/about/\n",
       "903630                                    /yt/about/es-419/\n",
       "903631                                        /yt/about/fa/\n",
       "903632                                     /yt/about/pt-BR/\n",
       "903633                                     /yt/about/en-GB/\n",
       "903634    /Where-can-I-buy-a-stuffed-Go-language-gopher-...\n",
       "903635                                           /yt/about/\n",
       "903636                                                    /\n",
       "903637                                           /yt/about/\n",
       "903638                                 /yt/about/index.html\n",
       "903639    /Where-can-I-buy-a-stuffed-Go-language-gopher-...\n",
       "903640    /r/chromeos/comments/39boco/looking_for_chrome...\n",
       "903641    /Where-can-I-buy-a-stuffed-Go-language-gopher-...\n",
       "903642                                        /yt/about/de/\n",
       "903643                                 /a/google.com/forum/\n",
       "903644                                               /watch\n",
       "903645                                                    /\n",
       "903646                                           /yt/about/\n",
       "903647                                        /yt/about/ar/\n",
       "903648                                           /yt/about/\n",
       "903649                                           /yt/about/\n",
       "903650                                        /yt/about/ko/\n",
       "903651                                               /l.php\n",
       "903652                                    /yt/about/es-419/\n",
       "Name: referralPath, Length: 903653, dtype: object"
      ]
     },
     "execution_count": 15,
     "metadata": {},
     "output_type": "execute_result"
    }
   ],
   "source": [
    "data[\"referralPath\"]"
   ]
  },
  {
   "cell_type": "markdown",
   "metadata": {},
   "source": [
    "# Too sparse"
   ]
  },
  {
   "cell_type": "code",
   "execution_count": 4,
   "metadata": {
    "scrolled": true
   },
   "outputs": [
    {
     "data": {
      "text/plain": [
       "Google Merchandise Collection                  5122\n",
       "Google Online Store                            1245\n",
       "Display Ad created 3/11/14                      967\n",
       "Full auto ad IMAGE ONLY                         822\n",
       "Ad from 12/13/16                                610\n",
       "Ad from 11/3/16                                 489\n",
       "Display Ad created 3/11/15                      392\n",
       "{KeyWord:Google Brand Items}                    251\n",
       "{KeyWord:Google Merchandise}                    155\n",
       "Ad from 11/7/16                                 123\n",
       "First Full Auto Template Test Ad                 87\n",
       "Google Merchandise                               87\n",
       "20% discount                                     75\n",
       "{KeyWord:Google Branded Gear}                    67\n",
       "{KeyWord:Looking for Google Bags?}               65\n",
       "Swag with Google Logos                           64\n",
       "Display Ad created 11/17/14                      50\n",
       "{KeyWord:Want Google Stickers?}                  42\n",
       "JD_5a_v1                                         41\n",
       "{KeyWord:Google Drinkware}                       32\n",
       "{KeyWord:Google Men's T-Shirts}                  30\n",
       "LeEco_1a                                         25\n",
       "Full auto ad TEXT ONLY                           16\n",
       "{KeyWord:Google Branded Kit}                     16\n",
       "{KeyWord:Google Branded Apparel}                 10\n",
       "Want Google Sunglasses                            8\n",
       "Google Paraphernalia                              7\n",
       "Full auto ad TEXT/NATIVE                          7\n",
       "{KeyWord:Google Branded Outerwear}                5\n",
       "Official Google Merchandise - Fast Shipping       4\n",
       "Google Store                                      4\n",
       "{KeyWord:Want Google Pet Toys?}                   4\n",
       "url_builder                                       3\n",
       "free shipping                                     3\n",
       "Full auto ad with Primary Color                   3\n",
       "Ad from 2/17/17                                   3\n",
       "Full auto ad NATIVE ONLY                          3\n",
       "Google store                                      2\n",
       "Free Shipping!                                    2\n",
       "visit us again                                    1\n",
       "Men's-Outerwear Google Apparel                    1\n",
       "google store                                      1\n",
       "Swag w/ Google Logos                              1\n",
       "GA Help Center                                    1\n",
       "Name: adContent, dtype: int64"
      ]
     },
     "execution_count": 4,
     "metadata": {},
     "output_type": "execute_result"
    }
   ],
   "source": [
    "data[\"adContent\"].value_counts()"
   ]
  },
  {
   "cell_type": "markdown",
   "metadata": {},
   "source": [
    "# all values are not socially engaged, should be removed"
   ]
  },
  {
   "cell_type": "code",
   "execution_count": 32,
   "metadata": {},
   "outputs": [
    {
     "data": {
      "text/plain": [
       "Not Socially Engaged    903653\n",
       "Name: socialEngagementType, dtype: int64"
      ]
     },
     "execution_count": 32,
     "metadata": {},
     "output_type": "execute_result"
    }
   ],
   "source": [
    "data[\"socialEngagementType\"].value_counts()"
   ]
  },
  {
   "cell_type": "markdown",
   "metadata": {},
   "source": [
    "# Almost all session ids are different"
   ]
  },
  {
   "cell_type": "code",
   "execution_count": 15,
   "metadata": {},
   "outputs": [
    {
     "data": {
      "text/plain": [
       "260873    7163280699773627826_1493535136\n",
       "575921    7163280699773627826_1493535136\n",
       "Name: sessionId, dtype: object"
      ]
     },
     "execution_count": 15,
     "metadata": {},
     "output_type": "execute_result"
    }
   ],
   "source": [
    "data[\"sessionId\"].loc[data[\"sessionId\"] == \"7163280699773627826_1493535136\"]"
   ]
  },
  {
   "cell_type": "code",
   "execution_count": 18,
   "metadata": {
    "collapsed": true
   },
   "outputs": [
    {
     "data": {
      "text/plain": [
       "channelGrouping                                                    Direct\n",
       "date                                                             20170430\n",
       "device                  {\"browser\": \"Chrome\", \"browserVersion\": \"not a...\n",
       "fullVisitorId                                         7163280699773627826\n",
       "geoNetwork              {\"continent\": \"Asia\", \"subContinent\": \"Souther...\n",
       "sessionId                                  7163280699773627826_1493535136\n",
       "socialEngagementType                                 Not Socially Engaged\n",
       "totals                  {\"visits\": \"1\", \"hits\": \"34\", \"pageviews\": \"25...\n",
       "trafficSource           {\"campaign\": \"(not set)\", \"source\": \"(direct)\"...\n",
       "visitId                                                        1493535136\n",
       "visitNumber                                                             1\n",
       "visitStartTime                                                 1493535608\n",
       "transactionRevenue                                                      0\n",
       "totals_vec                                              [0, 34, 25, 1, 1]\n",
       "mobileDeviceBranding                        not available in demo dataset\n",
       "deviceCategory                                                    desktop\n",
       "operatingSystem                                                   Windows\n",
       "isMobile                                                            False\n",
       "browser                                                            Chrome\n",
       "campaignCode                                                         None\n",
       "medium                                                             (none)\n",
       "isTrueDirect                                                         True\n",
       "referralPath                                                         None\n",
       "source                                                           (direct)\n",
       "adContent                                                            None\n",
       "city                                        not available in demo dataset\n",
       "continent                                                            Asia\n",
       "networkDomain                                             unknown.unknown\n",
       "country                                                             India\n",
       "region                                      not available in demo dataset\n",
       "subContinent                                                Southern Asia\n",
       "Name: 575921, dtype: object"
      ]
     },
     "execution_count": 18,
     "metadata": {},
     "output_type": "execute_result"
    }
   ],
   "source": [
    "data.loc[575921]"
   ]
  },
  {
   "cell_type": "code",
   "execution_count": 17,
   "metadata": {
    "collapsed": true
   },
   "outputs": [
    {
     "data": {
      "text/plain": [
       "channelGrouping                                                    Direct\n",
       "date                                                             20170429\n",
       "device                  {\"browser\": \"Chrome\", \"browserVersion\": \"not a...\n",
       "fullVisitorId                                         7163280699773627826\n",
       "geoNetwork              {\"continent\": \"Asia\", \"subContinent\": \"Souther...\n",
       "sessionId                                  7163280699773627826_1493535136\n",
       "socialEngagementType                                 Not Socially Engaged\n",
       "totals                  {\"visits\": \"1\", \"hits\": \"12\", \"pageviews\": \"7\"...\n",
       "trafficSource           {\"campaign\": \"(not set)\", \"source\": \"(direct)\"...\n",
       "visitId                                                        1493535136\n",
       "visitNumber                                                             1\n",
       "visitStartTime                                                 1493535136\n",
       "transactionRevenue                                                      0\n",
       "totals_vec                                               [0, 12, 7, 1, 1]\n",
       "mobileDeviceBranding                        not available in demo dataset\n",
       "deviceCategory                                                    desktop\n",
       "operatingSystem                                                   Windows\n",
       "isMobile                                                            False\n",
       "browser                                                            Chrome\n",
       "campaignCode                                                         None\n",
       "medium                                                             (none)\n",
       "isTrueDirect                                                         True\n",
       "referralPath                                                         None\n",
       "source                                                           (direct)\n",
       "adContent                                                            None\n",
       "city                                        not available in demo dataset\n",
       "continent                                                            Asia\n",
       "networkDomain                                             unknown.unknown\n",
       "country                                                             India\n",
       "region                                      not available in demo dataset\n",
       "subContinent                                                Southern Asia\n",
       "Name: 260873, dtype: object"
      ]
     },
     "execution_count": 17,
     "metadata": {},
     "output_type": "execute_result"
    }
   ],
   "source": [
    "data.loc[260873]"
   ]
  },
  {
   "cell_type": "code",
   "execution_count": null,
   "metadata": {},
   "outputs": [],
   "source": [
    "data['city'] = data.apply(lambda row: readAttr(row['geoNetwork'], 'city'), axis=1)\n",
    "data['continent'] = data.apply(lambda row: readAttr(row['geoNetwork'], 'continent'), axis=1)\n",
    "data['networkDomain'] = data.apply(lambda row: readAttr(row['geoNetwork'], 'networkDomain'), axis=1)\n",
    "data['country'] = data.apply(lambda row: readAttr(row['geoNetwork'], 'country'), axis=1)\n",
    "data['region'] = data.apply(lambda row: readAttr(row['geoNetwork'], 'region'), axis=1)\n",
    "data['subContinent']"
   ]
  },
  {
   "cell_type": "code",
   "execution_count": 45,
   "metadata": {
    "collapsed": true
   },
   "outputs": [
    {
     "data": {
      "text/plain": [
       "not available in demo dataset    508229\n",
       "Mountain View                     40884\n",
       "(not set)                         34262\n",
       "New York                          26371\n",
       "San Francisco                     20329\n",
       "Sunnyvale                         13086\n",
       "London                            12607\n",
       "San Jose                          10295\n",
       "Los Angeles                        8670\n",
       "Bangkok                            7709\n",
       "Chicago                            7444\n",
       "Ho Chi Minh City                   7342\n",
       "Istanbul                           6330\n",
       "Bengaluru                          5468\n",
       "Toronto                            5223\n",
       "Hanoi                              5032\n",
       "Seattle                            5025\n",
       "Sydney                             4926\n",
       "Dublin                             4877\n",
       "Sao Paulo                          4106\n",
       "Mumbai                             4099\n",
       "Chennai                            4090\n",
       "Paris                              4013\n",
       "Hyderabad                          3934\n",
       "Austin                             3790\n",
       "Tel Aviv-Yafo                      3542\n",
       "Hong Kong                          3508\n",
       "Jakarta                            3338\n",
       "Singapore                          3299\n",
       "Warsaw                             3288\n",
       "                                  ...  \n",
       "Tallahassee                           6\n",
       "Surat                                 6\n",
       "Coventry                              6\n",
       "LaFayette                             6\n",
       "Villanova                             6\n",
       "Arnhem                                6\n",
       "Rishon LeTsiyon                       6\n",
       "Sandton                               6\n",
       "Annecy-le-Vieux                       6\n",
       "Guwahati                              6\n",
       "North Attleborough                    6\n",
       "Clermont-Ferrand                      6\n",
       "Miami Beach                           6\n",
       "Talence                               6\n",
       "Barnsley                              6\n",
       "Ulaanbaatar                           6\n",
       "Islamabad                             6\n",
       "Kuwait City                           6\n",
       "Telford                               6\n",
       "Hradec Kralove                        6\n",
       "Los Gatos                             6\n",
       "Lincoln                               6\n",
       "Deep River                            5\n",
       "Kumamoto                              5\n",
       "Campbell                              5\n",
       "San Salvador                          5\n",
       "Douglasville                          5\n",
       "Daly City                             4\n",
       "Boise                                 3\n",
       "Bozeman                               3\n",
       "Name: city, Length: 649, dtype: int64"
      ]
     },
     "execution_count": 45,
     "metadata": {},
     "output_type": "execute_result"
    }
   ],
   "source": [
    "data['city'].value_counts()"
   ]
  },
  {
   "cell_type": "code",
   "execution_count": 44,
   "metadata": {
    "collapsed": true
   },
   "outputs": [
    {
     "data": {
      "text/plain": [
       "Americas     450377\n",
       "Asia         223698\n",
       "Europe       198311\n",
       "Oceania       15054\n",
       "Africa        14745\n",
       "(not set)      1468\n",
       "Name: continent, dtype: int64"
      ]
     },
     "execution_count": 44,
     "metadata": {},
     "output_type": "execute_result"
    }
   ],
   "source": [
    "data['continent'].value_counts()"
   ]
  },
  {
   "cell_type": "code",
   "execution_count": 46,
   "metadata": {
    "collapsed": true
   },
   "outputs": [
    {
     "data": {
      "text/plain": [
       "(not set)                244881\n",
       "unknown.unknown          146034\n",
       "comcast.net               28743\n",
       "rr.com                    14827\n",
       "verizon.net               13637\n",
       "ttnet.com.tr              13228\n",
       "comcastbusiness.net        9985\n",
       "hinet.net                  7919\n",
       "virginm.net                6414\n",
       "3bb.co.th                  6046\n",
       "prod-infinitum.com.mx      5960\n",
       "cox.net                    5812\n",
       "sbcglobal.net              5388\n",
       "btcentralplus.com          5304\n",
       "att.net                    5230\n",
       "google.com                 5035\n",
       "optonline.net              4972\n",
       "totbb.net                  4895\n",
       "vnpt.vn                    4508\n",
       "asianet.co.th              4374\n",
       "pldt.net                   4008\n",
       "rima-tde.net               3963\n",
       "amazonaws.com              3769\n",
       "t-ipconnect.de             3656\n",
       "telecomitalia.it           3571\n",
       "qwest.net                  3534\n",
       "airtelbroadband.in         3389\n",
       "virtua.com.br              3318\n",
       "bell.ca                    2904\n",
       "ztomy.com                  2845\n",
       "                          ...  \n",
       "tasmanet.com.au               1\n",
       "deltamedix.com                1\n",
       "ssc-nits.com                  1\n",
       "helex.gr                      1\n",
       "wemarketsuccess.com           1\n",
       "uzinfocom.uz                  1\n",
       "pk-t.ru                       1\n",
       "okq8.se                       1\n",
       "ensyco.com                    1\n",
       "solution-x.com                1\n",
       "ssl.com.mx                    1\n",
       "project.net.br                1\n",
       "kurotel.com.br                1\n",
       "dixy.ru                       1\n",
       "amplifon.com                  1\n",
       "nedap.com                     1\n",
       "spruethmagers.com             1\n",
       "oookgs.ru                     1\n",
       "tunein.com                    1\n",
       "bresaolepini.it               1\n",
       "colocationamerica.com         1\n",
       "cityofgriffin.com             1\n",
       "usfood.com                    1\n",
       "sik.si                        1\n",
       "ceriluz.net.br                1\n",
       "gold.net.au                   1\n",
       "kosakowo.net                  1\n",
       "ecolab.com                    1\n",
       "mtnetworks.co.za              1\n",
       "hemltd.ru                     1\n",
       "Name: networkDomain, Length: 28064, dtype: int64"
      ]
     },
     "execution_count": 46,
     "metadata": {},
     "output_type": "execute_result"
    }
   ],
   "source": [
    "data['networkDomain'].value_counts()"
   ]
  },
  {
   "cell_type": "code",
   "execution_count": 54,
   "metadata": {
    "collapsed": true
   },
   "outputs": [
    {
     "data": {
      "text/plain": [
       "United States               364744\n",
       "India                        51140\n",
       "United Kingdom               37393\n",
       "Canada                       25869\n",
       "Vietnam                      24598\n",
       "Turkey                       20522\n",
       "Thailand                     20123\n",
       "Germany                      19980\n",
       "Brazil                       19783\n",
       "Japan                        19731\n",
       "France                       15832\n",
       "Mexico                       13225\n",
       "Taiwan                       12996\n",
       "Australia                    12698\n",
       "Russia                       11662\n",
       "Spain                        11658\n",
       "Netherlands                  11453\n",
       "Italy                        11332\n",
       "Poland                        9693\n",
       "Indonesia                     9273\n",
       "Philippines                   9244\n",
       "Singapore                     7172\n",
       "Ireland                       6493\n",
       "Malaysia                      6439\n",
       "Romania                       6428\n",
       "Ukraine                       5577\n",
       "Israel                        5563\n",
       "Peru                          5546\n",
       "Sweden                        5315\n",
       "South Korea                   5237\n",
       "                             ...  \n",
       "Timor-Leste                      7\n",
       "Liechtenstein                    7\n",
       "Lesotho                          6\n",
       "British Virgin Islands           5\n",
       "Greenland                        5\n",
       "Turkmenistan                     5\n",
       "Antigua & Barbuda                5\n",
       "Caribbean Netherlands            4\n",
       "Guinea-Bissau                    4\n",
       "San Marino                       4\n",
       "Equatorial Guinea                4\n",
       "Central African Republic         4\n",
       "Cook Islands                     3\n",
       "Seychelles                       3\n",
       "Dominica                         3\n",
       "Isle of Man                      3\n",
       "Congo - Brazzaville              3\n",
       "Vanuatu                          3\n",
       "Comoros                          2\n",
       "Marshall Islands                 2\n",
       "Eritrea                          1\n",
       "Åland Islands                    1\n",
       "Samoa                            1\n",
       "St. Barthélemy                   1\n",
       "Norfolk Island                   1\n",
       "St. Pierre & Miquelon            1\n",
       "São Tomé & Príncipe              1\n",
       "Anguilla                         1\n",
       "St. Martin                       1\n",
       "American Samoa                   1\n",
       "Name: country, Length: 222, dtype: int64"
      ]
     },
     "execution_count": 54,
     "metadata": {},
     "output_type": "execute_result"
    }
   ],
   "source": [
    "data['country'].value_counts()"
   ]
  },
  {
   "cell_type": "code",
   "execution_count": 57,
   "metadata": {
    "collapsed": true
   },
   "outputs": [
    {
     "data": {
      "text/plain": [
       "0                                 Izmir\n",
       "1         not available in demo dataset\n",
       "2                   Community of Madrid\n",
       "3         not available in demo dataset\n",
       "4         not available in demo dataset\n",
       "5         not available in demo dataset\n",
       "6         not available in demo dataset\n",
       "7                            Queensland\n",
       "8         not available in demo dataset\n",
       "9         not available in demo dataset\n",
       "10        not available in demo dataset\n",
       "11        not available in demo dataset\n",
       "12                                Izmir\n",
       "13                                Sindh\n",
       "14        not available in demo dataset\n",
       "15        not available in demo dataset\n",
       "16        not available in demo dataset\n",
       "17                        Ile-de-France\n",
       "18                            (not set)\n",
       "19                         Buenos Aires\n",
       "20        not available in demo dataset\n",
       "21                            (not set)\n",
       "22        not available in demo dataset\n",
       "23                              Bangkok\n",
       "24                              Jakarta\n",
       "25        not available in demo dataset\n",
       "26        not available in demo dataset\n",
       "27        not available in demo dataset\n",
       "28                            Karnataka\n",
       "29        not available in demo dataset\n",
       "                      ...              \n",
       "903623    not available in demo dataset\n",
       "903624    not available in demo dataset\n",
       "903625    not available in demo dataset\n",
       "903626    not available in demo dataset\n",
       "903627    not available in demo dataset\n",
       "903628    not available in demo dataset\n",
       "903629    not available in demo dataset\n",
       "903630    not available in demo dataset\n",
       "903631    not available in demo dataset\n",
       "903632    not available in demo dataset\n",
       "903633    not available in demo dataset\n",
       "903634                 Stockholm County\n",
       "903635                       California\n",
       "903636                       California\n",
       "903637    not available in demo dataset\n",
       "903638    not available in demo dataset\n",
       "903639    not available in demo dataset\n",
       "903640    not available in demo dataset\n",
       "903641                        (not set)\n",
       "903642    not available in demo dataset\n",
       "903643                       California\n",
       "903644    not available in demo dataset\n",
       "903645                         New York\n",
       "903646                         Victoria\n",
       "903647    not available in demo dataset\n",
       "903648    not available in demo dataset\n",
       "903649    not available in demo dataset\n",
       "903650                            Seoul\n",
       "903651    not available in demo dataset\n",
       "903652    not available in demo dataset\n",
       "Name: region, Length: 903653, dtype: object"
      ]
     },
     "execution_count": 57,
     "metadata": {},
     "output_type": "execute_result"
    }
   ],
   "source": [
    "data['region']"
   ]
  },
  {
   "cell_type": "code",
   "execution_count": 58,
   "metadata": {
    "collapsed": true
   },
   "outputs": [
    {
     "data": {
      "text/plain": [
       "Northern America      390657\n",
       "Southeast Asia         77800\n",
       "Southern Asia          59321\n",
       "Western Europe         59114\n",
       "Northern Europe        58168\n",
       "Eastern Asia           46919\n",
       "Eastern Europe         45249\n",
       "South America          41731\n",
       "Western Asia           38443\n",
       "Southern Europe        35780\n",
       "Central America        15583\n",
       "Australasia            14893\n",
       "Northern Africa         7683\n",
       "Western Africa          2573\n",
       "Caribbean               2406\n",
       "Southern Africa         2169\n",
       "Eastern Africa          1927\n",
       "(not set)               1468\n",
       "Central Asia            1215\n",
       "Middle Africa            393\n",
       "Melanesia                 81\n",
       "Micronesian Region        55\n",
       "Polynesia                 25\n",
       "Name: subContinent, dtype: int64"
      ]
     },
     "execution_count": 58,
     "metadata": {},
     "output_type": "execute_result"
    }
   ],
   "source": [
    "data['subContinent'].value_counts()"
   ]
  },
  {
   "cell_type": "code",
   "execution_count": 9,
   "metadata": {
    "collapsed": true
   },
   "outputs": [
    {
     "data": {
      "text/plain": [
       "1493146175    8\n",
       "1484649802    6\n",
       "1478345904    6\n",
       "1481369525    6\n",
       "1494374199    5\n",
       "1500856602    5\n",
       "1495031359    5\n",
       "1475719086    4\n",
       "1484649800    4\n",
       "1481874207    4\n",
       "1481365730    4\n",
       "1489390306    4\n",
       "1473406997    4\n",
       "1494958069    4\n",
       "1488190236    4\n",
       "1493406494    4\n",
       "1494590623    4\n",
       "1499778118    4\n",
       "1479214853    4\n",
       "1474613955    4\n",
       "1490899032    4\n",
       "1500856605    4\n",
       "1485823856    4\n",
       "1491913766    4\n",
       "1489390296    4\n",
       "1490274628    4\n",
       "1487580558    4\n",
       "1490264767    4\n",
       "1479668456    4\n",
       "1490384972    4\n",
       "             ..\n",
       "1478768173    1\n",
       "1470381612    1\n",
       "1482952234    1\n",
       "1497859675    1\n",
       "1477085394    1\n",
       "1489481310    1\n",
       "1491160706    1\n",
       "1484899987    1\n",
       "1497484946    1\n",
       "1484904081    1\n",
       "1478614672    1\n",
       "1501642380    1\n",
       "1500254858    1\n",
       "1497435786    1\n",
       "1476466313    1\n",
       "1484879493    1\n",
       "1489061507    1\n",
       "1483793003    1\n",
       "1491576415    1\n",
       "1472640637    1\n",
       "1487322748    1\n",
       "1495465966    1\n",
       "1487337077    1\n",
       "1481501400    1\n",
       "1499868782    1\n",
       "1472597610    1\n",
       "1472599657    1\n",
       "1491496550    1\n",
       "1472613986    1\n",
       "1497372675    1\n",
       "Name: visitId, Length: 886303, dtype: int64"
      ]
     },
     "execution_count": 9,
     "metadata": {},
     "output_type": "execute_result"
    }
   ],
   "source": [
    "data[\"visitId\"].value_counts()"
   ]
  },
  {
   "cell_type": "code",
   "execution_count": null,
   "metadata": {},
   "outputs": [],
   "source": [
    "traffic source, not provided"
   ]
  }
 ],
 "metadata": {
  "kernelspec": {
   "display_name": "Python 3",
   "language": "python",
   "name": "python3"
  },
  "language_info": {
   "codemirror_mode": {
    "name": "ipython",
    "version": 3
   },
   "file_extension": ".py",
   "mimetype": "text/x-python",
   "name": "python",
   "nbconvert_exporter": "python",
   "pygments_lexer": "ipython3",
   "version": "3.6.4"
  }
 },
 "nbformat": 4,
 "nbformat_minor": 2
}
